{
  "nbformat": 4,
  "nbformat_minor": 0,
  "metadata": {
    "colab": {
      "provenance": [],
      "toc_visible": true
    },
    "kernelspec": {
      "name": "python3",
      "display_name": "Python 3"
    },
    "language_info": {
      "name": "python"
    }
  },
  "cells": [
    {
      "cell_type": "markdown",
      "source": [
        "# Ficha de Expressões Regulares 1"
      ],
      "metadata": {
        "id": "oVaAea-wCM6H"
      }
    },
    {
      "cell_type": "markdown",
      "source": [
        "### Conceitos básicos de expressões regulares\n",
        "\n",
        "- `a` - corresponde a uma ocorrência do caracter `a`.\n",
        "- `a?` - corresponde a 0 ou 1 ocorrências do caracter `a`.\n",
        "- `a+` - corresponde a 1 ou mais ocorrências do caracter `a`.\n",
        "- `a*` - corresponde a 0 ou mais ocorrências do caracter `a`.\n",
        "- `[abc]` - corresponde a uma ocorrência de um dos caracteres `a`, `b` ou `c`.\n",
        "- `[a-z]` - corresponde a uma ocorrência de um caracter entre `a` e `z`.\n",
        "- `^` - corresponde ao início da string.\n",
        "- `$` - corresponde ao fim da string.\n",
        "- `[^abc]` - corresponde a uma ocorrência de qualquer caracter que não seja `a`, `b` ou `c`.\n",
        "\n",
        "Podemos usar o operador de união para unir várias expressões regulares. Por exemplo: `a|bbb|[^a-z]`, que corresponde a uma das várias (neste caso, 3) expressões regulares que fazem parte da união.\n",
        "\n",
        "Podemos simplificar expressões regulares como `bbb` para `b{3}`, ou seja, 3 ocorrências consecutivas do caracter `b`, neste caso. Outras opções incluem `b{3,}` para 3 ou mais ocorrências ou `b{3,6}` para entre 3 a 6 ocorrências, por exemplo.\n",
        "\n",
        "Para formar grupos de expressões regulares, usamos parênteses. Por exemplo: `((abc)*|[0-9]+)?`. Os operadores após um grupo atuam sobre o grupo.\n",
        "\n",
        "Podemos ainda aplicar modificadores a grupos. Por exemplo, `(?i:teste)` corresponde à expressão \"teste\", escrita com qualquer combinação de maiúsculas e minúsculas (e.g., \"TESTE\", \"tEsTe\", \"TEste\", etc.)."
      ],
      "metadata": {
        "id": "gk5jnHXt9t4y"
      }
    },
    {
      "cell_type": "markdown",
      "source": [
        "## Exercício 1"
      ],
      "metadata": {
        "id": "yDRt0yOgJ-TW"
      }
    },
    {
      "cell_type": "markdown",
      "source": [
        "### Alínea 1.1\n",
        "\n",
        "Dada uma linha de texto, define um programa que determina se a palavra \"hello\" aparece no início da linha.\n",
        "\n",
        "Conceitos importantes para este exercício:\n",
        "\n",
        "- `re.match(pattern, string[, flags])` - analisa a `string` e tenta encontrar uma correspondência para a expressão regular `pattern` a partir do início da string. Devolve `None` se não encontrar nenhuma correspondência.\n",
        "- `r\"\"` - string correspondente a uma expressão regular."
      ],
      "metadata": {
        "id": "gI05knhniDCr"
      }
    },
    {
      "cell_type": "code",
      "execution_count": null,
      "metadata": {
        "id": "ufl-7TGph9WH",
        "colab": {
          "base_uri": "https://localhost:8080/"
        },
        "outputId": "1b112da7-5f70-4153-be0b-11ec4d227ca8"
      },
      "outputs": [
        {
          "output_type": "stream",
          "name": "stdout",
          "text": [
            "True\n",
            "False\n",
            "False\n"
          ]
        }
      ],
      "source": [
        "import re\n",
        "\n",
        "def starts_with_hello(text):\n",
        "  return bool(re.match(r\"hello\\b\", text))\n",
        "\n",
        "\n",
        "\n",
        "line1 = \"hello world\"\n",
        "line2 = \"goodbye world\"\n",
        "line3 = \"hi, hello there\"\n",
        "\n",
        "print(starts_with_hello(line1))\n",
        "print(starts_with_hello(line2))\n",
        "print(starts_with_hello(line3))"
      ]
    },
    {
      "cell_type": "markdown",
      "source": [
        "### Alínea 1.2\n",
        "\n",
        "Dada uma linha de texto, define um programa que determina se a palavra \"hello\" aparece em qualquer posição da linha.\n",
        "\n",
        "Conceitos importantes para este exercício:\n",
        "\n",
        "- `re.search(pattern, string[, flags])` - analisa a `string` e tenta encontrar uma correspondência para a expressão regular `pattern` em qualquer posição da string. Devolve `None` se não encontrar nenhuma correspondência."
      ],
      "metadata": {
        "id": "gzgOACqiJ7VN"
      }
    },
    {
      "cell_type": "code",
      "execution_count": null,
      "metadata": {
        "id": "TM-qMl-yJ7VS",
        "colab": {
          "base_uri": "https://localhost:8080/"
        },
        "outputId": "bab1233f-306f-49a9-c6b2-a0da3dc21169"
      },
      "outputs": [
        {
          "output_type": "stream",
          "name": "stdout",
          "text": [
            "True\n",
            "False\n",
            "True\n"
          ]
        }
      ],
      "source": [
        "import re\n",
        "\n",
        "\n",
        "def contains_hello(text):\n",
        "  return bool(re.search(r\"hello\\b\", text))\n",
        "\n",
        "\n",
        "\n",
        "line1 = \"hello world\"\n",
        "line2 = \"goodbye world\"\n",
        "line3 = \"hi, hello there\"\n",
        "\n",
        "print(contains_hello(line1))\n",
        "print(contains_hello(line2))\n",
        "print(contains_hello(line3))"
      ]
    },
    {
      "cell_type": "markdown",
      "source": [
        "### Alínea 1.3\n",
        "\n",
        "Dada uma linha de texto, define um programa que pesquisa por todas as ocorrências da palavra \"hello\" dentro da linha, admitindo que a palavra seja escrita com maiúsculas ou minúsculas.\n",
        "\n",
        "Conceitos importantes para este exercício:\n",
        "\n",
        "- `re.findall(pattern, string[, flags])` - encontra todas as correspondências que não se sobreponham da expressão regular `pattern` na `string`. Devolve uma lista."
      ],
      "metadata": {
        "id": "6ZE7klswOy90"
      }
    },
    {
      "cell_type": "code",
      "source": [
        "import re\n",
        "\n",
        "def find_all_hellos(text):\n",
        "    return re.findall(r\"hello\", text, re.IGNORECASE)\n",
        "\n",
        "\n",
        "print(find_all_hellos(\"Hello there! Uh, hi, hello, it's me... Heyyy, hello? HELLO!\"))"
      ],
      "metadata": {
        "id": "aHB_l7g5OzNY",
        "colab": {
          "base_uri": "https://localhost:8080/"
        },
        "outputId": "d159e902-1a0c-4d5e-bc53-3f5e80134446"
      },
      "execution_count": null,
      "outputs": [
        {
          "output_type": "stream",
          "name": "stdout",
          "text": [
            "['Hello', 'hello', 'hello', 'HELLO']\n"
          ]
        }
      ]
    },
    {
      "cell_type": "markdown",
      "source": [
        "### Alínea 1.4\n",
        "\n",
        "Dada uma linha de texto, define um programa que pesquisa por todas as ocorrências da palavra \"hello\" dentro da linha, substituindo cada uma por \"\\*YEP\\*\".\n",
        "\n",
        "Conceitos importantes para este exercício:\n",
        "\n",
        "- `re.sub(pattern, replacement, string, count = 0, flags = 0)` - substitui todas as correspondências da expressão regular `pattern` na `string` por `replacement`. `replacement` pode ser uma string, uma expressão regular ou uma função que recebe uma correspondência e devolve uma string. O parâmetro `count` determina o limite de substituições (por defeito é 0, ou seja, não há limite)."
      ],
      "metadata": {
        "id": "TSwUj26OPRmP"
      }
    },
    {
      "cell_type": "code",
      "source": [
        "import re\n",
        "\n",
        "def replace_hellos(text):\n",
        "    return re.sub(r\"hello\", \"*YEP*\", text, 0, re.IGNORECASE)\n",
        "\n",
        "\n",
        "print(replace_hellos(\"Hello there! Uh, hi, hello, it's me... Heyyy, hello? HELLO!\"))"
      ],
      "metadata": {
        "id": "SXLK2rhMPf11",
        "colab": {
          "base_uri": "https://localhost:8080/"
        },
        "outputId": "d0327686-f203-43eb-a0ba-0727d1795ce9"
      },
      "execution_count": null,
      "outputs": [
        {
          "output_type": "stream",
          "name": "stdout",
          "text": [
            "*YEP* there! Uh, hi, *YEP*, it's me... Heyyy, *YEP*? *YEP*!\n"
          ]
        }
      ]
    },
    {
      "cell_type": "markdown",
      "source": [
        "### Alínea 1.5\n",
        "\n",
        "Dada uma linha de texto, define um programa que pesquisa por todas as ocorrências do caracter vírgula, separando cada parte da linha por esse caracter.\n",
        "\n",
        "Conceitos importantes para este exercício:\n",
        "\n",
        "- `re.split(pattern, string, maxsplit = 0, flags = 0)` - divide a `string` com base nas correspondências da expressão regular `pattern`. O parâmetro `maxsplit` pode ser usado para definir um limite de divisões (por defeito é 0, que corresponde a divisões infinitas)."
      ],
      "metadata": {
        "id": "MrgsEzJCPgbO"
      }
    },
    {
      "cell_type": "code",
      "source": [
        "import re\n",
        "\n",
        "def split_by_comma(text):\n",
        "    return re.split(r\",\", text)\n",
        "\n",
        "\n",
        "print(split_by_comma(\"bananas, laranjas, maçãs, uvas, melancias, cerejas, kiwis, etc.\"))"
      ],
      "metadata": {
        "id": "vrwiid6XPgvg",
        "colab": {
          "base_uri": "https://localhost:8080/"
        },
        "outputId": "3c65e896-ee79-4a0e-a1fb-214b9f31aee5"
      },
      "execution_count": null,
      "outputs": [
        {
          "output_type": "stream",
          "name": "stdout",
          "text": [
            "['bananas', ' laranjas', ' maçãs', ' uvas', ' melancias', ' cerejas', ' kiwis', ' etc.']\n"
          ]
        }
      ]
    },
    {
      "cell_type": "markdown",
      "source": [
        "## Exercício 2\n",
        "\n",
        "Define a função `palavra_magica` que recebe uma frase e determina se a mesma termina com a expressão \"por favor\", seguida de um sinal válido de pontuação."
      ],
      "metadata": {
        "id": "6QP0erT4iSzE"
      }
    },
    {
      "cell_type": "code",
      "source": [
        "import re\n",
        "\n",
        "def palavra_magica(frase):\n",
        "    return bool(re.search(r\"por favor[.?!]$\", frase, re.IGNORECASE))\n",
        "\n",
        "\n",
        "print(palavra_magica(\"Posso ir à casa de banho, por favor?\"))\n",
        "print(palavra_magica(\"Preciso de um favor.\"))"
      ],
      "metadata": {
        "id": "MhCC49z7jU7n",
        "colab": {
          "base_uri": "https://localhost:8080/"
        },
        "outputId": "4521cd79-a5c4-4efe-e213-df2371df4899"
      },
      "execution_count": null,
      "outputs": [
        {
          "output_type": "stream",
          "name": "stdout",
          "text": [
            "True\n",
            "False\n"
          ]
        }
      ]
    },
    {
      "cell_type": "markdown",
      "source": [
        "## Exercício 3\n",
        "\n",
        "Define a função `narcissismo` que calcula quantas vezes a palavra \"eu\" aparece numa string."
      ],
      "metadata": {
        "id": "L71wvPCujpBD"
      }
    },
    {
      "cell_type": "code",
      "source": [
        "import re\n",
        "\n",
        "def narcissismo(linha):\n",
        "    return len(re.findall(r\"eu\", linha, re.IGNORECASE))\n",
        "\n",
        "\n",
        "print(narcissismo(\"Eu não sei se eu quero continuar a ser eu. Por outro lado, eu ser eu é uma parte importante de quem EU sou.\"))"
      ],
      "metadata": {
        "id": "0HxFCow5nOj8",
        "colab": {
          "base_uri": "https://localhost:8080/"
        },
        "outputId": "1a0a5461-4ba6-4be4-f4e2-767d2684abbe"
      },
      "execution_count": null,
      "outputs": [
        {
          "output_type": "stream",
          "name": "stdout",
          "text": [
            "6\n"
          ]
        }
      ]
    },
    {
      "cell_type": "markdown",
      "source": [
        "## Exercício 4\n",
        "\n",
        "Define a função `troca_de_curso` que substitui todas as ocorrências de \"LEI\" numa linha pelo nome do curso dado à função."
      ],
      "metadata": {
        "id": "EKETfRaOolO4"
      }
    },
    {
      "cell_type": "code",
      "source": [
        "import re\n",
        "\n",
        "def troca_de_curso(linha, novo_curso):\n",
        "  return re.sub(r\"LEI\", novo_curso, linha)\n",
        "\n",
        "\n",
        "print(troca_de_curso(\"LEI é o melhor curso! Adoro LEI! Gostar de LEI devia ser uma lei.\", \"Biomédica\"))"
      ],
      "metadata": {
        "id": "8ZVPMxfZpRrx",
        "colab": {
          "base_uri": "https://localhost:8080/"
        },
        "outputId": "0a64b4ec-ea68-4ebe-9701-88416fe73a45"
      },
      "execution_count": null,
      "outputs": [
        {
          "output_type": "stream",
          "name": "stdout",
          "text": [
            "Biomédica é o melhor curso! Adoro Biomédica! Gostar de Biomédica devia ser uma lei.\n"
          ]
        }
      ]
    },
    {
      "cell_type": "markdown",
      "source": [
        "## Exercício 5\n",
        "\n",
        "Define a função `soma_string` que recebe uma string com vários números separados por uma vírgula (e.g., \"1,2,3,4,5\") e devolve a soma destes números."
      ],
      "metadata": {
        "id": "GZKMkTKcp886"
      }
    },
    {
      "cell_type": "code",
      "source": [
        "import re\n",
        "\n",
        "def soma_string(linha):\n",
        "  a = re.split(r',',linha)\n",
        "  final = 0\n",
        "  for elem in a:\n",
        "    numbers = re.findall(r\"[-]?\\d\", elem)\n",
        "    for number in numbers:\n",
        "      final += int(number)\n",
        "  return final\n",
        "\n",
        "print(soma_string(\"4,-6,2,3,8,-3,0,2,-5,1\"))\n",
        "print(soma_string(\"Vou comprar 6 maças, 4 bananas e 2 laranjas\"))\n",
        "print(soma_string(\"4, XYZ6, -2YXD\"))"
      ],
      "metadata": {
        "id": "ExqmZwj_rzuR",
        "colab": {
          "base_uri": "https://localhost:8080/"
        },
        "outputId": "77314b85-2f3f-4a2c-8643-f881771151b4"
      },
      "execution_count": null,
      "outputs": [
        {
          "output_type": "stream",
          "name": "stdout",
          "text": [
            "6\n",
            "12\n",
            "8\n"
          ]
        }
      ]
    },
    {
      "cell_type": "markdown",
      "source": [
        "## Exercício 6\n",
        "\n",
        "Define a função `pronomes` que encontra e devolve todos os pronomes pessoais presentes numa frase, i.e., \"eu\", \"tu\", \"ele\", \"ela\", etc., com atenção para letras maiúsculas ou minúsculas."
      ],
      "metadata": {
        "id": "n49iafoNzw-3"
      }
    },
    {
      "cell_type": "code",
      "source": [
        "import re\n",
        "\n",
        "def pronomes(linha):\n",
        "  return re.findall(r\"eu|tu|el[ea][s]?|nós|vós|você[s]?\", linha, re.IGNORECASE)\n",
        "\n",
        "\n",
        "print(pronomes(\"Eu não sei se eu quero continuar a ser EU. Por outro lado, tu tens de saber a ser TU, porque eles e elas sabem quem Nós somos.\"))"
      ],
      "metadata": {
        "id": "RnuCrz2H0DWq",
        "colab": {
          "base_uri": "https://localhost:8080/"
        },
        "outputId": "20a3684a-41a5-4c83-a4ce-d3a9eee7d1db"
      },
      "execution_count": null,
      "outputs": [
        {
          "output_type": "stream",
          "name": "stdout",
          "text": [
            "['Eu', 'eu', 'EU', 'tu', 'TU', 'eles', 'elas', 'Nós']\n"
          ]
        }
      ]
    },
    {
      "cell_type": "markdown",
      "source": [
        "## Exercício 7\n",
        "\n",
        "Define a função `variavel_valida` que recebe uma string e determina se a mesma é um nome válido para uma variável, ou seja, se começa por uma letra e apenas contém letras, números ou *underscores*."
      ],
      "metadata": {
        "id": "BHMk88OQ0XFY"
      }
    },
    {
      "cell_type": "code",
      "source": [
        "import re\n",
        "\n",
        "def variavel_valida(s):\n",
        "    return bool(re.match(r'^[a-zA-Z]\\w*$',s))\n",
        "\n",
        "\n",
        "print(variavel_valida(\"var-n10\"))\n",
        "print(variavel_valida(\"var_n10\"))\n",
        "print(variavel_valida(\"var Valida\"))\n",
        "print(variavel_valida(\"1var_n10\"))"
      ],
      "metadata": {
        "id": "YTQW91Ws1WLx",
        "colab": {
          "base_uri": "https://localhost:8080/"
        },
        "outputId": "ba02fda2-a5c3-48be-f924-bd22425c1b6b"
      },
      "execution_count": null,
      "outputs": [
        {
          "output_type": "stream",
          "name": "stdout",
          "text": [
            "False\n",
            "True\n",
            "False\n",
            "False\n"
          ]
        }
      ]
    },
    {
      "cell_type": "markdown",
      "source": [
        "## Exercício 8\n",
        "\n",
        "Define a função `inteiros` que devolve todos os números inteiros presentes numa string. Um número inteiro pode conter um ou mais dígitos e pode ser positivo ou negativo."
      ],
      "metadata": {
        "id": "ZRWbgkMM5qzx"
      }
    },
    {
      "cell_type": "code",
      "source": [
        "import re\n",
        "\n",
        "def inteiros(linha):\n",
        "  return re.findall(r\"(?<![,\\w])-?\\d+(?=[\\s.]|$)\", linha)\n",
        "\n",
        "\n",
        "print(inteiros(\"Vou comprar 6 maças, 4 bananas e 2 laranjas\"))\n",
        "print(inteiros(\"42 4,3.-400. 33.-3,2 69\"))"
      ],
      "metadata": {
        "id": "9uOVgGLfGrux",
        "colab": {
          "base_uri": "https://localhost:8080/"
        },
        "outputId": "bbba68b9-9ffc-4373-e9fa-9bf673988fb6"
      },
      "execution_count": 8,
      "outputs": [
        {
          "output_type": "stream",
          "name": "stdout",
          "text": [
            "['6', '4', '2']\n",
            "['42', '-400', '33', '69']\n"
          ]
        }
      ]
    },
    {
      "cell_type": "markdown",
      "source": [
        "## Exercício 9\n",
        "\n",
        "Define a função `underscores` que substitui todos os espaços numa string por *underscores*. Se aparecerem vários espaços seguidos, devem ser substituídos por apenas um *underscore*."
      ],
      "metadata": {
        "id": "QhpGhtBT7aD3"
      }
    },
    {
      "cell_type": "code",
      "source": [
        "import re\n",
        "\n",
        "def underscores(linha):\n",
        "  return re.sub(r\"\\s+(?!\\s*$)\",'_',linha)\n",
        "\n",
        "\n",
        "print(underscores(\"Vou comprar 6 maças, 4 bananas e 2 laranjas \"))\n",
        "print(underscores(\"  Eu não    sei se eu quero    continuar a ser eu. Por outro lado, eu ser eu é uma parte importante de quem EU sou.  \"))"
      ],
      "metadata": {
        "id": "9QzFG1MYGcMI",
        "colab": {
          "base_uri": "https://localhost:8080/"
        },
        "outputId": "1d842dab-9dbb-46b6-e9f0-a8efdca687ff"
      },
      "execution_count": 6,
      "outputs": [
        {
          "output_type": "stream",
          "name": "stdout",
          "text": [
            "Vou_comprar_6_maças,_4_bananas_e_2_laranjas \n",
            "_Eu_não_sei_se_eu_quero_continuar_a_ser_eu._Por_outro_lado,_eu_ser_eu_é_uma_parte_importante_de_quem_EU_sou.  \n"
          ]
        }
      ]
    },
    {
      "cell_type": "markdown",
      "source": [
        "## Exercício 10\n",
        "\n",
        "Define a função `codigos_postais` que recebe uma lista de códigos postais válidos e divide-os com base no hífen. A função deve devolver uma lista de pares."
      ],
      "metadata": {
        "id": "xcUrRlIy8uof"
      }
    },
    {
      "cell_type": "code",
      "source": [
        "\n",
        "def codigo_postal(lista):\n",
        "  cp = []\n",
        "  for elem in lista:\n",
        "      a = re.split(r'-',elem)\n",
        "      cp.append(tuple(a))\n",
        "  return cp\n",
        "\n",
        "\n",
        "lista = [\n",
        "    \"4700-000\",\n",
        "    \"1234-567\",\n",
        "    \"8541-543\",\n",
        "    \"4123-974\",\n",
        "    \"9481-025\"\n",
        "]\n",
        "print(codigo_postal(lista))"
      ],
      "metadata": {
        "id": "6xj01Oy09ncO",
        "colab": {
          "base_uri": "https://localhost:8080/"
        },
        "outputId": "7dad91d2-8a2c-48f9-9837-f8db9177352d"
      },
      "execution_count": null,
      "outputs": [
        {
          "output_type": "stream",
          "name": "stdout",
          "text": [
            "[('4700', '000'), ('1234', '567'), ('8541', '543'), ('4123', '974'), ('9481', '025')]\n"
          ]
        }
      ]
    }
  ]
}