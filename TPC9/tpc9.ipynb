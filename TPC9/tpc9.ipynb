{
 "cells": [
  {
   "cell_type": "markdown",
   "id": "b61086c9",
   "metadata": {},
   "source": [
    "# TPC 9 - Treino de Modelos"
   ]
  },
  {
   "cell_type": "markdown",
   "id": "e8cb68e5",
   "metadata": {},
   "source": [
    "## Imports"
   ]
  },
  {
   "cell_type": "code",
   "execution_count": 37,
   "id": "5461697d",
   "metadata": {},
   "outputs": [
    {
     "name": "stderr",
     "output_type": "stream",
     "text": [
      "[nltk_data] Downloading package stopwords to\n",
      "[nltk_data]     C:\\Users\\faria\\AppData\\Roaming\\nltk_data...\n",
      "[nltk_data]   Package stopwords is already up-to-date!\n",
      "[nltk_data] Downloading package punkt to\n",
      "[nltk_data]     C:\\Users\\faria\\AppData\\Roaming\\nltk_data...\n",
      "[nltk_data]   Package punkt is already up-to-date!\n"
     ]
    },
    {
     "data": {
      "text/plain": [
       "True"
      ]
     },
     "execution_count": 37,
     "metadata": {},
     "output_type": "execute_result"
    }
   ],
   "source": [
    "from gensim.models import Word2Vec,  KeyedVectors \n",
    "import gensim\n",
    "import nltk\n",
    "from nltk.corpus import stopwords\n",
    "import matplotlib.pyplot as plt\n",
    "from sklearn.decomposition import PCA\n",
    "\n",
    "nltk.download('stopwords')\n",
    "nltk.download('punkt')"
   ]
  },
  {
   "cell_type": "markdown",
   "id": "0b2eb470",
   "metadata": {},
   "source": [
    "## Constantes"
   ]
  },
  {
   "cell_type": "code",
   "execution_count": 24,
   "id": "5bd43a27",
   "metadata": {},
   "outputs": [],
   "source": [
    "STOP_WORDS = set(stopwords.words('portuguese'))\n",
    "STOP_WORDS.update(['entao', 'ate', 'lo', 'la', 'lhe', 'lhes', 'ja', 'aqui', 'ali', \n",
    "                   'disse', 'pode', 'tao' 'tambem', 'voce', 'ter'])\n",
    "\n",
    "\n",
    "\n",
    "VECTOR_SIZE = 300\n",
    "WINDOW_SIZE = 5\n",
    "MIN_WORD_COUNT = 3\n",
    "ALGORITHM = 1\n",
    "EPOCHS = 20\n",
    "NUM_WORKERS = 3\n",
    "\n",
    "FILE1_PATH = \"text\\Harry_Potter_Camara_Secreta-br.txt\"\n",
    "FILE2_PATH = \"text\\Harry_Potter_e_A_Pedra_Filosofal.txt\"\n",
    "MODEL_SAVE_PATH = \"harry.model\""
   ]
  },
  {
   "cell_type": "markdown",
   "id": "b317f47e",
   "metadata": {},
   "source": [
    "## Load Files"
   ]
  },
  {
   "cell_type": "code",
   "execution_count": 25,
   "id": "63609f69",
   "metadata": {},
   "outputs": [],
   "source": [
    "def load_and_preprocess_text(file_path):\n",
    "    try:\n",
    "        with open(file_path, 'r', encoding='utf-8') as file:\n",
    "            text = file.read()\n",
    "\n",
    "        sentences = []\n",
    "        for line in text.splitlines():\n",
    "\n",
    "            tokens = list(gensim.utils.tokenize(line, lowercase=True, deacc=True, encoding='utf-8'))\n",
    "            \n",
    "\n",
    "            filtered_tokens = [word for word in tokens if word not in STOP_WORDS]\n",
    "            \n",
    "  \n",
    "            if filtered_tokens:\n",
    "                sentences.append(filtered_tokens)\n",
    "        \n",
    "        return sentences\n",
    "    except FileNotFoundError:\n",
    "        print(f\"Erro: Ficheiro não encontrado em {file_path}\")\n",
    "        return []\n",
    "    except Exception as e:\n",
    "        print(f\"Erro ao processar {file_path}: {str(e)}\")\n",
    "        return []"
   ]
  },
  {
   "cell_type": "markdown",
   "id": "dcb38785",
   "metadata": {},
   "source": [
    "## Train Model"
   ]
  },
  {
   "cell_type": "code",
   "execution_count": 26,
   "id": "b572852c",
   "metadata": {},
   "outputs": [
    {
     "name": "stdout",
     "output_type": "stream",
     "text": [
      "A carregar e pré-processar ficheiros de texto...\n",
      "A treinar o modelo Word2Vec...\n",
      "Vetores guardados em formato word2vec em harry.model\n"
     ]
    }
   ],
   "source": [
    "def train():\n",
    "    print(\"A carregar e pré-processar ficheiros de texto...\")\n",
    "    sentences1 = load_and_preprocess_text(FILE1_PATH)\n",
    "    sentences2 = load_and_preprocess_text(FILE2_PATH)\n",
    "     \n",
    "    all_sentences = sentences1 + sentences2\n",
    "    \n",
    "    if not all_sentences:\n",
    "        print(\"Erro: Nenhuma frase foi carregada. Verifique os caminhos dos ficheiros.\")\n",
    "        return\n",
    "    \n",
    "    print(\"A treinar o modelo Word2Vec...\")\n",
    "    model = Word2Vec(sentences=all_sentences, \n",
    "                     vector_size=VECTOR_SIZE, \n",
    "                     window=WINDOW_SIZE, \n",
    "                     min_count=MIN_WORD_COUNT, \n",
    "                     sg=ALGORITHM, \n",
    "                     epochs=EPOCHS, \n",
    "                     workers=NUM_WORKERS)\n",
    "    \n",
    "\n",
    "    vectors_path = MODEL_SAVE_PATH \n",
    "    model.wv.save_word2vec_format(vectors_path, binary=False)\n",
    "    print(f\"Vetores guardados em formato word2vec em {vectors_path}\")\n",
    "\n",
    "\n",
    "train()"
   ]
  },
  {
   "cell_type": "markdown",
   "id": "af502f2a",
   "metadata": {},
   "source": [
    "## Test Model"
   ]
  },
  {
   "cell_type": "code",
   "execution_count": 28,
   "id": "36812582",
   "metadata": {},
   "outputs": [
    {
     "name": "stdout",
     "output_type": "stream",
     "text": [
      "Tamanho do vocabulário: 4739\n"
     ]
    }
   ],
   "source": [
    "def load_model(model_path):\n",
    "    try:\n",
    "        model = KeyedVectors.load_word2vec_format(model_path, binary=False)\n",
    "        return model\n",
    "    except FileNotFoundError:\n",
    "        print(f\"Erro: Modelo não encontrado em {model_path}\")\n",
    "        return None\n",
    "    except Exception as e:\n",
    "        print(f\"Erro ao carregar o modelo: {str(e)}\")\n",
    "        return None    \n",
    "    \n",
    "\n",
    "def get_word_vector(model, word):\n",
    "    try:\n",
    "        return model[word]\n",
    "    except KeyError:\n",
    "        print(f\"Palavra '{word}' não está no vocabulário.\")\n",
    "        return None\n",
    "\n",
    "\n",
    "\n",
    "model = load_model(MODEL_SAVE_PATH)\n",
    "\n",
    "\n",
    "if model is None:\n",
    "    print(\"ERRO: Modelo não foi carregado. Testes não podem ser executados.\")\n",
    "else:\n",
    "     print(f\"Tamanho do vocabulário: {len(model)}\")"
   ]
  },
  {
   "cell_type": "markdown",
   "id": "eddb8385",
   "metadata": {},
   "source": [
    "### Vetores de palavras principais"
   ]
  },
  {
   "cell_type": "code",
   "execution_count": null,
   "id": "c03d46ce",
   "metadata": {},
   "outputs": [
    {
     "name": "stdout",
     "output_type": "stream",
     "text": [
      "\n",
      "--- Vetores de palavras principais ---\n",
      "Dimensão do vetor 'harry': 300\n",
      "Vetor da palavra 'harry': [ 0.09122682  0.08999351  0.12824899  0.26136598 -0.06878404 -0.3724339\n",
      "  0.0852555   0.430078   -0.06303241 -0.08694255]...\n",
      "Dimensão do vetor 'dumbledore': 300\n",
      "Vetor da palavra 'dumbledore': [ 0.0938527   0.2978253  -0.20516919  0.02677412 -0.08742801  0.12149491\n",
      "  0.10787585  0.41641706  0.40608186 -0.15676501]...\n",
      "Dimensão do vetor 'hogwarts': 300\n",
      "Vetor da palavra 'hogwarts': [ 0.30489483  0.4606859  -0.16613    -0.00090596 -0.20421539 -0.3394063\n",
      "  0.17863458  0.14959995  0.15870622  0.05653721]...\n",
      "Dimensão do vetor 'magia': 300\n",
      "Vetor da palavra 'magia': [ 0.13441874  0.2963897  -0.19504249  0.04339765  0.06016991 -0.13706338\n",
      "  0.37710825  0.46386456  0.05911545 -0.30745783]...\n",
      "Dimensão do vetor 'grifinoria': 300\n",
      "Vetor da palavra 'grifinoria': [-0.3513932  -0.08217485 -0.28650957  0.1750071  -0.19521298 -0.0425717\n",
      "  0.15594406  0.55347496  0.3695693  -0.30997315]...\n"
     ]
    }
   ],
   "source": [
    "if model:\n",
    "    print(\"\\n--- Vetores de palavras principais ---\")\n",
    "    words_to_check = [\"harry\", \"dumbledore\", \"hogwarts\", \"magia\", \"grifinoria\"]\n",
    "    for word in words_to_check:\n",
    "        vector = get_word_vector(model, word)\n",
    "        if vector is not None:\n",
    "            print(f\"Dimensão do vetor '{word}': {len(vector)}\")\n",
    "            print(f\"Vetor da palavra '{word}': {vector[:10]}...\")\n",
    "\n",
    "else:\n",
    "    print(\"Modelo não carregado, impossível executar teste.\")"
   ]
  },
  {
   "cell_type": "markdown",
   "id": "3231f111",
   "metadata": {},
   "source": [
    "### Palavras similares"
   ]
  },
  {
   "cell_type": "code",
   "execution_count": 31,
   "id": "cb2e3f02",
   "metadata": {},
   "outputs": [
    {
     "name": "stdout",
     "output_type": "stream",
     "text": [
      "\n",
      "--- Palavras similares ---\n",
      "\n",
      "Similares a 'harry':\n",
      "[('cartao', 0.5796537399291992), ('horario', 0.5727582573890686), ('automaticamente', 0.5661267638206482), ('desesperado', 0.565894365310669), ('distinguir', 0.5638467073440552)]\n",
      "\n",
      "Similares a 'hogwarts':\n",
      "[('expresso', 0.6929485201835632), ('bruxaria', 0.6307135820388794), ('servicos', 0.6222922205924988), ('escola', 0.621100902557373), ('estudar', 0.6161048412322998)]\n",
      "\n",
      "Similares a 'dumbledore':\n",
      "[('binns', 0.6345553994178772), ('dippet', 0.5736896991729736), ('pedi', 0.5620558261871338), ('alvo', 0.5504888892173767), ('gaguejou', 0.5335317850112915)]\n",
      "\n",
      "Similares a 'hermione':\n",
      "[('mostrando', 0.5083152651786804), ('mione', 0.5041040182113647), ('autorizacao', 0.4988630712032318), ('amiga', 0.496390163898468), ('continua', 0.494624525308609)]\n",
      "\n",
      "Similares a 'rony':\n",
      "[('urgencia', 0.5340894460678101), ('desconfiada', 0.5201237797737122), ('recolhendo', 0.5184688568115234), ('intrigado', 0.5138868093490601), ('hesitante', 0.5114798545837402)]\n",
      "\n",
      "Similares a 'cicatriz':\n",
      "[('raio', 0.8854179978370667), ('testa', 0.8523657321929932), ('forma', 0.8216281533241272), ('escapou', 0.8189448118209839), ('firenze', 0.8096157312393188)]\n",
      "\n",
      "Similares a 'quadribol':\n",
      "[('agarra', 0.7721932530403137), ('apanhador', 0.7619844675064087), ('capitao', 0.741600513458252), ('treino', 0.7406131029129028), ('treinos', 0.7180202007293701)]\n",
      "\n",
      "Similares a 'varinha':\n",
      "[('mochila', 0.5742793083190918), ('brandiu', 0.5564656257629395), ('firmeza', 0.5493541359901428), ('erguera', 0.5443225502967834), ('tirou', 0.5431356430053711)]\n",
      "\n",
      "Similares a 'snape':\n",
      "[('preparar', 0.5904536247253418), ('quirrell', 0.5740659236907959), ('muy', 0.5690580010414124), ('assinado', 0.5610457062721252), ('flitwick', 0.5498366355895996)]\n",
      "\n",
      "Similares a 'sonserina':\n",
      "[('corvinal', 0.7488896250724792), ('derrota', 0.7053338289260864), ('frei', 0.699433445930481), ('capitao', 0.6939831972122192), ('campeonato', 0.692398726940155)]\n",
      "\n",
      "Similares a 'grifinoria':\n",
      "[('flint', 0.6414429545402527), ('campeonato', 0.635743260383606), ('marcos', 0.6333284974098206), ('sonserina', 0.6192134618759155), ('pontos', 0.6173290014266968)]\n"
     ]
    }
   ],
   "source": [
    "if model: \n",
    "    print(\"\\n--- Palavras similares ---\")\n",
    "    words_for_similarity = [\"harry\", \"hogwarts\", \"dumbledore\", \"hermione\", \"rony\", \"cicatriz\", \"quadribol\", \"varinha\", \"snape\", \"sonserina\", \"grifinoria\"]\n",
    "    for word in words_for_similarity:\n",
    "        try:\n",
    "            print(f\"\\nSimilares a '{word}':\")\n",
    "            similar = model.most_similar(word, topn=5)\n",
    "            print(similar)\n",
    "        except KeyError:\n",
    "            print(f\"Palavra '{word}' não está no vocabulário.\")\n",
    "else:\n",
    "    print(\"Modelo não carregado, impossível executar teste.\")"
   ]
  },
  {
   "cell_type": "markdown",
   "id": "d38fa8c5",
   "metadata": {},
   "source": [
    "### Similaridade entre pares de palavras"
   ]
  },
  {
   "cell_type": "code",
   "execution_count": 32,
   "id": "f848447e",
   "metadata": {},
   "outputs": [
    {
     "name": "stdout",
     "output_type": "stream",
     "text": [
      "\n",
      "--- Similaridade entre pares de palavras ---\n",
      "harry \t potter \t 0.08\n",
      "harry \t hermione \t 0.29\n",
      "harry \t rony \t 0.40\n",
      "dumbledore \t voldemort \t 0.35\n",
      "hogwarts \t escola \t 0.62\n",
      "grifinoria \t sonserina \t 0.62\n",
      "magia \t varinha \t 0.16\n",
      "snape \t pocoes \t 0.54\n",
      "quadribol \t vassoura \t 0.47\n",
      "harry \t cicatriz \t 0.36\n"
     ]
    }
   ],
   "source": [
    "if model:\n",
    "    print(\"\\n--- Similaridade entre pares de palavras ---\")\n",
    "    pairs_to_compare = [\n",
    "        ('harry', 'potter'),\n",
    "        ('harry', 'hermione'),\n",
    "        ('harry', 'rony'),\n",
    "        ('dumbledore', 'voldemort'),\n",
    "        ('hogwarts', 'escola'),\n",
    "        ('grifinoria', 'sonserina'),\n",
    "        ('magia', 'varinha'),\n",
    "        ('snape', 'pocoes'),\n",
    "        ('quadribol', 'vassoura'),\n",
    "        ('harry', 'cicatriz')\n",
    "    ]\n",
    "\n",
    "    for s1, s2 in pairs_to_compare:\n",
    "        try:\n",
    "            similarity = model.similarity(s1, s2)\n",
    "            print(f'{s1} \\t {s2} \\t {similarity:.2f}')\n",
    "        except KeyError:\n",
    "            print(f\"Não foi possível calcular similaridade: '{s1}' ou '{s2}' não está no vocabulário.\")\n",
    "else:\n",
    "    print(\"Modelo não carregado, impossível executar teste.\")"
   ]
  },
  {
   "cell_type": "markdown",
   "id": "12c74e40",
   "metadata": {},
   "source": [
    "### Analogias"
   ]
  },
  {
   "cell_type": "code",
   "execution_count": 33,
   "id": "5ec41102",
   "metadata": {},
   "outputs": [
    {
     "name": "stdout",
     "output_type": "stream",
     "text": [
      "\n",
      "--- Teste de analogias ---\n",
      "draco - sonserina + grifinoria = [('neville', 0.47226062417030334), ('acabado', 0.4226175546646118), ('tapado', 0.4130967855453491)]\n",
      "hermione - livro + espada = [('tremendo', 0.6045465469360352), ('robe', 0.5788584351539612), ('tonto', 0.5645690560340881)]\n"
     ]
    }
   ],
   "source": [
    "if model: \n",
    "    print(\"\\n--- Teste de analogias ---\")\n",
    "    try:\n",
    "        result = model.most_similar(positive=['draco', 'grifinoria'], negative=['sonserina'], topn=3)\n",
    "        print(f\"draco - sonserina + grifinoria = {result}\")\n",
    "    except KeyError as e:\n",
    "        print(f\"Não foi possível testar analogia 1: Palavra(s) {e} não encontrada(s) no vocabulário.\")\n",
    "    except Exception as e:\n",
    "         print(f\"Erro inesperado na analogia 1: {e}\")\n",
    "\n",
    "    try:\n",
    "        result = model.most_similar(positive=['hermione', 'espada'], negative=['livro'], topn=3)\n",
    "        print(f\"hermione - livro + espada = {result}\")\n",
    "    except KeyError as e:\n",
    "        print(f\"Não foi possível testar analogia 2: Palavra(s) {e} não encontrada(s) no vocabulário.\")\n",
    "    except Exception as e:\n",
    "         print(f\"Erro inesperado na analogia 2: {e}\")\n",
    "else:\n",
    "    print(\"Modelo não carregado, impossível executar teste.\")"
   ]
  },
  {
   "cell_type": "markdown",
   "id": "db5cabf4",
   "metadata": {},
   "source": [
    "### Estatísticas dos vetores"
   ]
  },
  {
   "cell_type": "code",
   "execution_count": 40,
   "id": "3d7f46f5",
   "metadata": {},
   "outputs": [
    {
     "name": "stdout",
     "output_type": "stream",
     "text": [
      "\n",
      "--- Estatísticas dos vetores (Frequência) ---\n",
      "Os 10 termos mais frequentes no vocabulário (se a contagem estiver disponível):\n",
      "harry: 4739\n",
      "nao: 4738\n",
      "rony: 4737\n",
      "hagrid: 4736\n",
      "coisa: 4735\n",
      "hermione: 4734\n",
      "bem: 4733\n",
      "cabeca: 4732\n",
      "olhos: 4731\n",
      "dumbledore: 4730\n"
     ]
    }
   ],
   "source": [
    "if model: #\n",
    "    print(\"\\n--- Estatísticas dos vetores (Frequência) ---\")\n",
    "    try:\n",
    "        top_n = 10\n",
    "        print(f\"Os {top_n} termos mais frequentes no vocabulário (se a contagem estiver disponível):\")\n",
    "        word_freqs = {word: model.get_vecattr(word, \"count\") for word in model.index_to_key[:1000]} # Limit check for performance\n",
    "        sorted_words = sorted(word_freqs.items(), key=lambda x: x[1], reverse=True)\n",
    "        for word, freq in sorted_words[:top_n]:\n",
    "            print(f\"{word}: {freq}\")\n",
    "    except AttributeError:\n",
    "         print(\"Atributo 'count' não disponível nos vetores carregados (pode ser necessário salvar o modelo completo).\")\n",
    "    except Exception as e:\n",
    "        print(f\"Não foi possível calcular estatísticas dos vetores: {e}\")\n",
    "else:\n",
    "    print(\"Modelo não carregado, impossível executar teste.\")"
   ]
  },
  {
   "cell_type": "code",
   "execution_count": 42,
   "id": "3c3e906c",
   "metadata": {},
   "outputs": [
    {
     "name": "stdout",
     "output_type": "stream",
     "text": [
      "\n",
      "--- Visualização PCA das 10 palavras mais frequentes ---\n"
     ]
    },
    {
     "data": {
      "image/png": "[encoded data removed]",
      "text/plain": [
       "<Figure size 1200x800 with 1 Axes>"
      ]
     },
     "metadata": {},
     "output_type": "display_data"
    }
   ],
   "source": [
    "if model: \n",
    "    print(\"\\n--- Visualização PCA das 10 palavras mais frequentes ---\")\n",
    "    try:\n",
    "\n",
    "        top_words = model.index_to_key[:10]\n",
    "        top_vectors = [model[word] for word in top_words]\n",
    "        \n",
    "        pca = PCA(n_components=2)\n",
    "        result = pca.fit_transform(top_vectors)\n",
    "        \n",
    "        plt.figure(figsize=(12, 8))\n",
    "        plt.scatter(result[:, 0], result[:, 1])\n",
    "        \n",
    "        for i, word in enumerate(top_words):\n",
    "            plt.annotate(word, xy=(result[i, 0], result[i, 1]), xytext=(5, 2),\n",
    "                         textcoords='offset points', ha='right', va='bottom')\n",
    "                         \n",
    "        plt.title(\"Visualização PCA das 10 Palavras Mais Frequentes\")\n",
    "        plt.xlabel(\"Componente Principal 1\")\n",
    "        plt.ylabel(\"Componente Principal 2\")\n",
    "        plt.grid(True)\n",
    "        plt.show()\n",
    "        \n",
    "    except Exception as e:\n",
    "        print(f\"Não foi possível gerar o gráfico PCA: {e}\")\n",
    "else:\n",
    "    print(\"Modelo não carregado, impossível gerar gráfico.\")\n"
   ]
  }
 ],
 "metadata": {
  "kernelspec": {
   "display_name": "Python 3",
   "language": "python",
   "name": "python3"
  },
  "language_info": {
   "codemirror_mode": {
    "name": "ipython",
    "version": 3
   },
   "file_extension": ".py",
   "mimetype": "text/x-python",
   "name": "python",
   "nbconvert_exporter": "python",
   "pygments_lexer": "ipython3",
   "version": "3.9.13"
  }
 },
 "nbformat": 4,
 "nbformat_minor": 5
}
